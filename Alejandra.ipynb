{
 "cells": [
  {
   "attachments": {},
   "cell_type": "markdown",
   "metadata": {},
   "source": [
    "Sumas"
   ]
  },
  {
   "cell_type": "code",
   "execution_count": 14,
   "metadata": {},
   "outputs": [],
   "source": [
    "a = 12+3"
   ]
  },
  {
   "cell_type": "code",
   "execution_count": 7,
   "metadata": {},
   "outputs": [
    {
     "name": "stdout",
     "output_type": "stream",
     "text": [
      "La condicion se cumple mal\n"
     ]
    }
   ],
   "source": [
    "condicion1 = 2\n",
    "condicion2 = 4\n",
    "\n",
    "if(condicion1 > condicion2):\n",
    "    print('La condicion se cumple')\n",
    "elif(condicion1==condicion2):\n",
    "    print(\"Las condiciones son iguales\")\n",
    "elif(condicion1 < condicion2):\n",
    "    print('La condicion se cumple bien')\n",
    "else:\n",
    "    print('La condicion no se cumple')\n"
   ]
  }
 ],
 "metadata": {
  "kernelspec": {
   "display_name": "Python 3",
   "language": "python",
   "name": "python3"
  },
  "language_info": {
   "codemirror_mode": {
    "name": "ipython",
    "version": 3
   },
   "file_extension": ".py",
   "mimetype": "text/x-python",
   "name": "python",
   "nbconvert_exporter": "python",
   "pygments_lexer": "ipython3",
   "version": "3.11.3"
  },
  "orig_nbformat": 4
 },
 "nbformat": 4,
 "nbformat_minor": 2
}
